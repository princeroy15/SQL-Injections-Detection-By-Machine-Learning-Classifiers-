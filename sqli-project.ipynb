{
 "cells": [
  {
   "cell_type": "code",
   "execution_count": 5,
   "id": "5bb067f6",
   "metadata": {},
   "outputs": [],
   "source": [
    "import pandas as pd\n",
    "from sklearn.feature_extraction.text import CountVectorizer\n",
    "from sklearn.model_selection import train_test_split\n",
    "from nltk.corpus import stopwords\n",
    "from sklearn.metrics import accuracy_score, f1_score\n",
    "from sklearn.linear_model import LogisticRegression\n",
    "from sklearn.ensemble import RandomForestClassifier\n",
    "from sklearn.svm import SVC\n",
    "from sklearn.naive_bayes import GaussianNB\n",
    "import tensorflow as tf\n",
    "import numpy as np\n",
    "from sklearn.metrics import confusion_matrix\n",
    "from tensorflow.keras import models, layers\n",
    "import warnings\n",
    "\n",
    "warnings.filterwarnings('ignore')"
   ]
  },
  {
   "cell_type": "code",
   "execution_count": 6,
   "id": "09d55c20",
   "metadata": {},
   "outputs": [],
   "source": [
    "df = pd.read_csv(\"C:\\\\Users\\\\ASUS\\\\Downloads\\\\sqli.csv\", encoding='utf-16')\n",
    "\n",
    "X = df['Sentence']\n",
    "y = df['Label']\n",
    "\n"
   ]
  },
  {
   "cell_type": "code",
   "execution_count": 7,
   "id": "aa379f48",
   "metadata": {},
   "outputs": [
    {
     "name": "stderr",
     "output_type": "stream",
     "text": [
      "[nltk_data] Downloading package stopwords to\n",
      "[nltk_data]     C:\\Users\\ASUS\\AppData\\Roaming\\nltk_data...\n",
      "[nltk_data]   Package stopwords is already up-to-date!\n"
     ]
    },
    {
     "data": {
      "text/plain": [
       "True"
      ]
     },
     "execution_count": 7,
     "metadata": {},
     "output_type": "execute_result"
    }
   ],
   "source": [
    "import nltk\n",
    "\n",
    "nltk.download('stopwords')"
   ]
  },
  {
   "cell_type": "code",
   "execution_count": 8,
   "id": "404a322b",
   "metadata": {},
   "outputs": [
    {
     "name": "stdout",
     "output_type": "stream",
     "text": [
      "(3360, 4717)\n",
      "(3360,)\n",
      "(840, 4717)\n",
      "(840,)\n"
     ]
    }
   ],
   "source": [
    "vectorizer = CountVectorizer(min_df = 2, max_df = 0.8, stop_words = stopwords.words('english'))\n",
    "X = vectorizer.fit_transform(X.values.astype('U')).toarray()\n",
    "\n",
    "X_train, X_test, y_train, y_test = train_test_split(X, y, test_size = 0.2, random_state=1)\n",
    "print(X_train.shape)\n",
    "print(y_train.shape)\n",
    "print(X_test.shape)\n",
    "print(y_test.shape)"
   ]
  },
  {
   "cell_type": "code",
   "execution_count": 9,
   "id": "964b870f",
   "metadata": {
    "scrolled": true
   },
   "outputs": [
    {
     "name": "stdout",
     "output_type": "stream",
     "text": [
      "Accuracy of Logistic Regression on test set : 0.9273809523809524\n",
      "F1 Score of Logistic Regression on test set : 0.8478802992518704\n",
      "sensitivity= 0.748898678414097\n",
      "specificity= 0.9934747145187602\n",
      "Precision= 0.9770114942528736\n",
      "Recall= 0.748898678414097\n",
      "FMeasure 0.8478802992518704\n"
     ]
    }
   ],
   "source": [
    "lr_clf = LogisticRegression()\n",
    "lr_clf.fit(X_train, y_train)\n",
    "y_pred = lr_clf.predict(X_test)\n",
    "print(f\"Accuracy of Logistic Regression on test set : {accuracy_score(y_pred, y_test)}\")\n",
    "print(f\"F1 Score of Logistic Regression on test set : {f1_score(y_pred, y_test)}\")\n",
    "confusion = confusion_matrix(y_test, y_pred)\n",
    "\n",
    "TP = confusion[1, 1]\n",
    "TN = confusion[0, 0]\n",
    "FP = confusion[0, 1]\n",
    "FN = confusion[1, 0]\n",
    "\n",
    "sensitivity = TP / float(FN + TP)\n",
    "\n",
    "print(\"sensitivity=\",sensitivity)\n",
    "specificity = TN / (TN + FP)\n",
    "print(\"specificity=\",specificity)\n",
    "\n",
    "\n",
    "Precision = TP / float(TP + FP)\n",
    "Recall = TP / float(TP + FN)\n",
    "F1 = 2*((Precision*Recall)/(Precision+Recall))\n",
    "print (\"Precision=\",Precision)\n",
    "print (\"Recall=\", Recall)\n",
    "print (\"FMeasure\", F1)\n"
   ]
  },
  {
   "cell_type": "code",
   "execution_count": 10,
   "id": "89fee81d",
   "metadata": {},
   "outputs": [],
   "source": [
    "from sklearn.ensemble import AdaBoostClassifier"
   ]
  },
  {
   "cell_type": "code",
   "execution_count": 11,
   "id": "3e130e25",
   "metadata": {},
   "outputs": [
    {
     "name": "stdout",
     "output_type": "stream",
     "text": [
      "Accuracy of AdaBoost Regression on test set : 0.9035714285714286\n",
      "F1 Score of AadaBoost Regression on test set : 0.7885117493472584\n",
      "sensitivity= 0.6651982378854625\n",
      "specificity= 0.9918433931484503\n",
      "Precision= 0.967948717948718\n",
      "Recall= 0.6651982378854625\n",
      "FMeasure 0.7885117493472584\n"
     ]
    }
   ],
   "source": [
    "lr_clf = AdaBoostClassifier(n_estimators=100)\n",
    "lr_clf.fit(X_train, y_train)\n",
    "y_pred = lr_clf.predict(X_test)\n",
    "print(f\"Accuracy of AdaBoost Regression on test set : {accuracy_score(y_pred, y_test)}\")\n",
    "print(f\"F1 Score of AadaBoost Regression on test set : {f1_score(y_pred, y_test)}\")\n",
    "confusion = confusion_matrix(y_test, y_pred)\n",
    "\n",
    "TP = confusion[1, 1]\n",
    "TN = confusion[0, 0]\n",
    "FP = confusion[0, 1]\n",
    "FN = confusion[1, 0]\n",
    "\n",
    "sensitivity = TP / float(FN + TP)\n",
    "\n",
    "print(\"sensitivity=\",sensitivity)\n",
    "specificity = TN / (TN + FP)\n",
    "print(\"specificity=\",specificity)\n",
    "\n",
    "\n",
    "Precision = TP / float(TP + FP)\n",
    "Recall = TP / float(TP + FN)\n",
    "F1 = 2*((Precision*Recall)/(Precision+Recall))\n",
    "print (\"Precision=\",Precision)\n",
    "print (\"Recall=\", Recall)\n",
    "print (\"FMeasure\", F1)"
   ]
  },
  {
   "cell_type": "code",
   "execution_count": 12,
   "id": "697945bd",
   "metadata": {},
   "outputs": [
    {
     "name": "stdout",
     "output_type": "stream",
     "text": [
      "Accuracy of Random Forest on test set : 0.9285714285714286\n",
      "F1 Score of Random Forest on test set : 0.8832684824902725\n",
      "sensitivity= 1.0\n",
      "specificity= 0.9021207177814029\n",
      "Precision= 0.7909407665505227\n",
      "Recall= 1.0\n",
      "FMeasure 0.8832684824902725\n"
     ]
    }
   ],
   "source": [
    "rf_clf = RandomForestClassifier(n_estimators=100)\n",
    "rf_clf.fit(X_train, y_train)\n",
    "y_pred = rf_clf.predict(X_test)\n",
    "print(f\"Accuracy of Random Forest on test set : {accuracy_score(y_pred, y_test)}\")\n",
    "print(f\"F1 Score of Random Forest on test set : {f1_score(y_pred, y_test)}\")\n",
    "confusion = confusion_matrix(y_test, y_pred)\n",
    "\n",
    "TP = confusion[1, 1]\n",
    "TN = confusion[0, 0]\n",
    "FP = confusion[0, 1]\n",
    "FN = confusion[1, 0]\n",
    "\n",
    "sensitivity = TP / float(FN + TP)\n",
    "\n",
    "print(\"sensitivity=\",sensitivity)\n",
    "specificity = TN / (TN + FP)\n",
    "print(\"specificity=\",specificity)\n",
    "\n",
    "\n",
    "Precision = TP / float(TP + FP)\n",
    "Recall = TP / float(TP + FN)\n",
    "F1 = 2*((Precision*Recall)/(Precision+Recall))\n",
    "print (\"Precision=\",Precision)\n",
    "print (\"Recall=\", Recall)\n",
    "print (\"FMeasure\", F1)"
   ]
  },
  {
   "cell_type": "code",
   "execution_count": 14,
   "id": "7e3f3e8c",
   "metadata": {
    "scrolled": true
   },
   "outputs": [
    {
     "name": "stdout",
     "output_type": "stream",
     "text": [
      "Accuracy of Naive Bayes on test set : 0.9833333333333333\n",
      "F1 Score of Naive Bayes on test set : 0.9700854700854701\n",
      "sensitivity= 1.0\n",
      "specificity= 0.9771615008156607\n",
      "Precision= 0.941908713692946\n"
     ]
    }
   ],
   "source": [
    "nb_clf = GaussianNB()\n",
    "nb_clf.fit(X_train, y_train)\n",
    "y_pred = nb_clf.predict(X_test)\n",
    "print(f\"Accuracy of Naive Bayes on test set : {accuracy_score(y_pred, y_test)}\")\n",
    "print(f\"F1 Score of Naive Bayes on test set : {f1_score(y_pred, y_test)}\")\n",
    "\n",
    "confusion = confusion_matrix(y_test, y_pred)\n",
    "\n",
    "TP = confusion[1, 1]\n",
    "TN = confusion[0, 0]\n",
    "FP = confusion[0, 1]\n",
    "FN = confusion[1, 0]\n",
    "\n",
    "sensitivity = TP / float(FN + TP)\n",
    "\n",
    "print(\"sensitivity=\",sensitivity)\n",
    "specificity = TN / (TN + FP)\n",
    "print(\"specificity=\",specificity)\n",
    "\n",
    "\n",
    "Precision = TP / float(TP + FP)\n",
    "print (\"Precision=\",Precision)"
   ]
  },
  {
   "cell_type": "code",
   "execution_count": 18,
   "id": "65be3932",
   "metadata": {},
   "outputs": [],
   "source": [
    "import xgboost as xgb"
   ]
  },
  {
   "cell_type": "code",
   "execution_count": 19,
   "id": "6e7c5e98",
   "metadata": {},
   "outputs": [
    {
     "name": "stdout",
     "output_type": "stream",
     "text": [
      "[15:19:30] WARNING: C:/Users/Administrator/workspace/xgboost-win64_release_1.5.1/src/learner.cc:1115: Starting in XGBoost 1.3.0, the default evaluation metric used with the objective 'binary:logistic' was changed from 'error' to 'logloss'. Explicitly set eval_metric if you'd like to restore the old behavior.\n",
      "Accuracy of XGBoost on test set : 0.8964285714285715\n",
      "F1 Score of XGBoost on test set : 0.7667560321715818\n",
      "sensitivity= 0.6299559471365639\n",
      "specificity= 0.9951060358890701\n",
      "Precision= 0.9794520547945206\n",
      "Recall= 0.6299559471365639\n",
      "FMeasure 0.7667560321715818\n"
     ]
    }
   ],
   "source": [
    "nb_clf = xgb.XGBClassifier(n_estimators=100)\n",
    "nb_clf.fit(X_train, y_train)\n",
    "y_pred = nb_clf.predict(X_test)\n",
    "print(f\"Accuracy of XGBoost on test set : {accuracy_score(y_pred, y_test)}\")\n",
    "print(f\"F1 Score of XGBoost on test set : {f1_score(y_pred, y_test)}\")\n",
    "confusion = confusion_matrix(y_test, y_pred)\n",
    "\n",
    "TP = confusion[1, 1]\n",
    "TN = confusion[0, 0]\n",
    "FP = confusion[0, 1]\n",
    "FN = confusion[1, 0]\n",
    "\n",
    "sensitivity = TP / float(FN + TP)\n",
    "\n",
    "print(\"sensitivity=\",sensitivity)\n",
    "specificity = TN / (TN + FP)\n",
    "print(\"specificity=\",specificity)\n",
    "\n",
    "\n",
    "Precision = TP / float(TP + FP)\n",
    "Recall = TP / float(TP + FN)\n",
    "F1 = 2*((Precision*Recall)/(Precision+Recall))\n",
    "print (\"Precision=\",Precision)\n",
    "print (\"Recall=\", Recall)\n",
    "print (\"FMeasure\", F1)"
   ]
  },
  {
   "cell_type": "code",
   "execution_count": null,
   "id": "3b40a417",
   "metadata": {},
   "outputs": [],
   "source": []
  }
 ],
 "metadata": {
  "kernelspec": {
   "display_name": "Python 3 (ipykernel)",
   "language": "python",
   "name": "python3"
  },
  "language_info": {
   "codemirror_mode": {
    "name": "ipython",
    "version": 3
   },
   "file_extension": ".py",
   "mimetype": "text/x-python",
   "name": "python",
   "nbconvert_exporter": "python",
   "pygments_lexer": "ipython3",
   "version": "3.9.7"
  }
 },
 "nbformat": 4,
 "nbformat_minor": 5
}
